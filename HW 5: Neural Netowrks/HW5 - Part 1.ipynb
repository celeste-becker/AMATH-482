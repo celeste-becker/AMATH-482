{
 "cells": [
  {
   "cell_type": "code",
   "execution_count": 135,
   "metadata": {},
   "outputs": [],
   "source": [
    "#imports all nessary librarys\n",
    "import numpy as np\n",
    "import tensorflow as tf\n",
    "import matplotlib.pyplot as plt\n",
    "import pandas as pd\n",
    "from sklearn.metrics import confusion_matrix"
   ]
  },
  {
   "cell_type": "code",
   "execution_count": 136,
   "metadata": {},
   "outputs": [],
   "source": [
    "#loads in fashion data, sets training and test data\n",
    "fashion_mnist = tf.keras.datasets.fashion_mnist\n",
    "(X_train_full, y_train_full), (X_test, y_test) = fashion_mnist.load_data()"
   ]
  },
  {
   "cell_type": "code",
   "execution_count": 137,
   "metadata": {},
   "outputs": [
    {
     "data": {
      "image/png": "[encoded data removed]",
      "text/plain": [
       "<Figure size 432x288 with 9 Axes>"
      ]
     },
     "metadata": {
      "needs_background": "light"
     },
     "output_type": "display_data"
    }
   ],
   "source": [
    "#plot first 9 images in X training data\n",
    "plt.figure()\n",
    "for k in range(9):\n",
    "    plt.subplot(3,3,k+1)\n",
    "    plt.imshow(X_train_full[k], cmap=\"gray\")\n",
    "    plt.axis('off')\n",
    "plt.show() "
   ]
  },
  {
   "cell_type": "code",
   "execution_count": 138,
   "metadata": {},
   "outputs": [],
   "source": [
    "#get validation data from training data -> first 5000 images\n",
    "x_valid = X_train_full[:5000] / 255.0\n",
    "\n",
    "#Setting training data -> 55000 images after first 5000\n",
    "x_train = X_train_full[5000:] / 255.0\n",
    "\n",
    "#Deviding test data by 255.0 to convert to double\n",
    "x_test = X_test / 255.0\n",
    "\n",
    "#NOTE the labels are in ytrain -> contains the integer that coresponds\n",
    "#to the type of fashion\n",
    "\n",
    "#Spliting data labels into training and valid\n",
    "y_valid = y_train_full[:5000]\n",
    "y_train = y_train_full[5000:]\n"
   ]
  },
  {
   "cell_type": "code",
   "execution_count": 139,
   "metadata": {},
   "outputs": [],
   "source": [
    "#NEURAL NETOWRK --> Build Model\n",
    "#Sequential ->  each layer feeds into the next layer\n",
    "\n",
    "from functools import partial\n",
    "\n",
    "my_dense_layer = partial(tf.keras.layers.Dense, activation=\"relu\", kernel_regularizer=tf.keras.regularizers.l2(0.0001))\n",
    "\n",
    "model = tf.keras.models.Sequential([\n",
    "    #first layer --  takes input image of 28x28 and flattens it into a column\n",
    "    tf.keras.layers.Flatten(input_shape=[28,28]),\n",
    "    \n",
    "    #Hidden layers --  (fully connected = Dense)\n",
    "    #20 neurons, relu activation function\n",
    "    my_dense_layer(300),\n",
    "    tf.keras.layers.Dropout(0.1),\n",
    "    #my_dense_layer(80),\n",
    "    my_dense_layer(32),\n",
    "    tf.keras.layers.Dropout(0.1),\n",
    "    #my_dense_layer(16),\n",
    "    my_dense_layer(16),\n",
    "    \n",
    "    #output layer -- (fully connected = Dense)\n",
    "    #10 because there are ten options that we are trying to classify\n",
    "    my_dense_layer(10, activation=\"softmax\")\n",
    "    \n",
    "])"
   ]
  },
  {
   "cell_type": "code",
   "execution_count": 140,
   "metadata": {},
   "outputs": [],
   "source": [
    "#Training options\n",
    "#loss = loss function\n",
    "#optimizer -> used to solve for optimal weights and biases\n",
    "#optimization is iterative, learning rate determines how much\n",
    "#you are going to change your weights and biases in each iteration\n",
    "\n",
    "model.compile(loss=\"sparse_categorical_crossentropy\",\n",
    "             optimizer=tf.keras.optimizers.Adam(learning_rate = 0.0001),\n",
    "             metrics = [\"accuracy\"])"
   ]
  },
  {
   "cell_type": "code",
   "execution_count": 141,
   "metadata": {
    "scrolled": false
   },
   "outputs": [
    {
     "name": "stdout",
     "output_type": "stream",
     "text": [
      "Train on 55000 samples, validate on 5000 samples\n",
      "Epoch 1/23\n",
      "55000/55000 [==============================] - 11s 203us/sample - loss: 0.9679 - accuracy: 0.7007 - val_loss: 0.5891 - val_accuracy: 0.8316\n",
      "Epoch 2/23\n",
      "55000/55000 [==============================] - 9s 161us/sample - loss: 0.6131 - accuracy: 0.8122 - val_loss: 0.5042 - val_accuracy: 0.8508\n",
      "Epoch 3/23\n",
      "55000/55000 [==============================] - 9s 156us/sample - loss: 0.5377 - accuracy: 0.8332 - val_loss: 0.4630 - val_accuracy: 0.8616\n",
      "Epoch 4/23\n",
      "55000/55000 [==============================] - 9s 158us/sample - loss: 0.4914 - accuracy: 0.8472 - val_loss: 0.4358 - val_accuracy: 0.8684\n",
      "Epoch 5/23\n",
      "55000/55000 [==============================] - 9s 162us/sample - loss: 0.4630 - accuracy: 0.8552 - val_loss: 0.4304 - val_accuracy: 0.8670\n",
      "Epoch 6/23\n",
      "55000/55000 [==============================] - 9s 168us/sample - loss: 0.4422 - accuracy: 0.8627 - val_loss: 0.4035 - val_accuracy: 0.8746\n",
      "Epoch 7/23\n",
      "55000/55000 [==============================] - 9s 163us/sample - loss: 0.4233 - accuracy: 0.8689 - val_loss: 0.3950 - val_accuracy: 0.8764\n",
      "Epoch 8/23\n",
      "55000/55000 [==============================] - 9s 170us/sample - loss: 0.4104 - accuracy: 0.8730 - val_loss: 0.3878 - val_accuracy: 0.8806\n",
      "Epoch 9/23\n",
      "55000/55000 [==============================] - 9s 163us/sample - loss: 0.3971 - accuracy: 0.8759 - val_loss: 0.3792 - val_accuracy: 0.8828\n",
      "Epoch 10/23\n",
      "55000/55000 [==============================] - 9s 164us/sample - loss: 0.3873 - accuracy: 0.8794 - val_loss: 0.3795 - val_accuracy: 0.8822\n",
      "Epoch 11/23\n",
      "55000/55000 [==============================] - 9s 167us/sample - loss: 0.3751 - accuracy: 0.8848 - val_loss: 0.3772 - val_accuracy: 0.8816\n",
      "Epoch 12/23\n",
      "55000/55000 [==============================] - 9s 162us/sample - loss: 0.3686 - accuracy: 0.8850 - val_loss: 0.3678 - val_accuracy: 0.8888\n",
      "Epoch 13/23\n",
      "55000/55000 [==============================] - 10s 180us/sample - loss: 0.3615 - accuracy: 0.8881 - val_loss: 0.3585 - val_accuracy: 0.8902\n",
      "Epoch 14/23\n",
      "55000/55000 [==============================] - 9s 158us/sample - loss: 0.3562 - accuracy: 0.8903 - val_loss: 0.3700 - val_accuracy: 0.8870\n",
      "Epoch 15/23\n",
      "55000/55000 [==============================] - 9s 157us/sample - loss: 0.3472 - accuracy: 0.8935 - val_loss: 0.3613 - val_accuracy: 0.8898\n",
      "Epoch 16/23\n",
      "55000/55000 [==============================] - 8s 153us/sample - loss: 0.3415 - accuracy: 0.8955 - val_loss: 0.3560 - val_accuracy: 0.8890\n",
      "Epoch 17/23\n",
      "55000/55000 [==============================] - 9s 161us/sample - loss: 0.3352 - accuracy: 0.8974 - val_loss: 0.3605 - val_accuracy: 0.8886\n",
      "Epoch 18/23\n",
      "55000/55000 [==============================] - 9s 158us/sample - loss: 0.3320 - accuracy: 0.8988 - val_loss: 0.3552 - val_accuracy: 0.8924\n",
      "Epoch 19/23\n",
      "55000/55000 [==============================] - 9s 156us/sample - loss: 0.3259 - accuracy: 0.9011 - val_loss: 0.3526 - val_accuracy: 0.8898\n",
      "Epoch 20/23\n",
      "55000/55000 [==============================] - 8s 141us/sample - loss: 0.3199 - accuracy: 0.9024 - val_loss: 0.3513 - val_accuracy: 0.8894\n",
      "Epoch 21/23\n",
      "55000/55000 [==============================] - 8s 152us/sample - loss: 0.3196 - accuracy: 0.9023 - val_loss: 0.3599 - val_accuracy: 0.8872\n",
      "Epoch 22/23\n",
      "55000/55000 [==============================] - 9s 159us/sample - loss: 0.3136 - accuracy: 0.9046 - val_loss: 0.3463 - val_accuracy: 0.8918\n",
      "Epoch 23/23\n",
      "55000/55000 [==============================] - 9s 160us/sample - loss: 0.3081 - accuracy: 0.9061 - val_loss: 0.3433 - val_accuracy: 0.8970\n"
     ]
    }
   ],
   "source": [
    "#Training Model\n",
    "#epochs = how many times want optimization to run use lot more than 5\n",
    "#Save results of training model to history\n",
    "history = model.fit(x_train, y_train, epochs=23, validation_data=(x_valid,y_valid))"
   ]
  },
  {
   "cell_type": "code",
   "execution_count": 142,
   "metadata": {
    "scrolled": true
   },
   "outputs": [
    {
     "data": {
      "image/png": "[encoded data removed]",
      "text/plain": [
       "<Figure size 576x360 with 1 Axes>"
      ]
     },
     "metadata": {
      "needs_background": "light"
     },
     "output_type": "display_data"
    }
   ],
   "source": [
    "#Plotting\n",
    "pd.DataFrame(history.history).plot(figsize=(8,5))\n",
    "plt.grid(True)\n",
    "plt.gca().set_ylim(0,1)\n",
    "plt.show()"
   ]
  },
  {
   "cell_type": "code",
   "execution_count": 144,
   "metadata": {},
   "outputs": [
    {
     "name": "stdout",
     "output_type": "stream",
     "text": [
      "[[4811    5   90  169   19    1  429    1   18    0]\n",
      " [   3 5343    3   81    9    0    5    0    0    0]\n",
      " [  26    1 4704   46  489    0  226    0    4    0]\n",
      " [  49   16   16 5213  146    0   57    0    2    0]\n",
      " [   2    4  306  129 4915    0  153    0    3    0]\n",
      " [   0    0    0    0    0 5460    0   40    2    5]\n",
      " [ 551    5  384  135  408    0 4016    0    8    0]\n",
      " [   0    0    0    0    0   43    0 5359    2   84]\n",
      " [   9    1    7   13   14    7   17    8 5434    0]\n",
      " [   0    0    0    0    0   11    0  147    0 5336]]\n"
     ]
    }
   ],
   "source": [
    "#Plot confusion matrix\n",
    "y_pred = model.predict_classes(x_train)\n",
    "conf_train = confusion_matrix(y_train,y_pred)\n",
    "print(conf_train)"
   ]
  },
  {
   "cell_type": "code",
   "execution_count": 145,
   "metadata": {},
   "outputs": [
    {
     "name": "stdout",
     "output_type": "stream",
     "text": [
      "10000/10000 [==============================] - 1s 96us/sample - loss: 48.2413 - accuracy: 0.8600\n"
     ]
    },
    {
     "data": {
      "text/plain": [
       "[48.24127066493034, 0.86]"
      ]
     },
     "execution_count": 145,
     "metadata": {},
     "output_type": "execute_result"
    }
   ],
   "source": [
    "#This evaluates the model with the test data\n",
    "model.evaluate(X_test,y_test)"
   ]
  },
  {
   "cell_type": "code",
   "execution_count": 146,
   "metadata": {},
   "outputs": [
    {
     "name": "stdout",
     "output_type": "stream",
     "text": [
      "[[843   4  24  25  11   0  77   0  16   0]\n",
      " [  0 978   0  14   5   0   2   0   1   0]\n",
      " [ 13   2 684   8 255   0  36   0   2   0]\n",
      " [ 16  19  10 841  86   0  22   0   6   0]\n",
      " [  0   0  38  11 938   0  11   0   2   0]\n",
      " [  0   0   0   0   0 935   0  16   4  45]\n",
      " [127   4  85  23 219   0 529   0  13   0]\n",
      " [  0   0   0   0   0  15   0 895   0  90]\n",
      " [  4   1   2   3   8   1   2   4 975   0]\n",
      " [  0   0   0   0   0   4   1  13   0 982]]\n"
     ]
    }
   ],
   "source": [
    "#Plot confusion matrix with test data\n",
    "y_pred = model.predict_classes(X_test)\n",
    "conf_test = confusion_matrix(y_test, y_pred)\n",
    "print(conf_test)"
   ]
  }
 ],
 "metadata": {
  "kernelspec": {
   "display_name": "amath482",
   "language": "python",
   "name": "amath482"
  },
  "language_info": {
   "codemirror_mode": {
    "name": "ipython",
    "version": 3
   },
   "file_extension": ".py",
   "mimetype": "text/x-python",
   "name": "python",
   "nbconvert_exporter": "python",
   "pygments_lexer": "ipython3",
   "version": "3.7.6"
  }
 },
 "nbformat": 4,
 "nbformat_minor": 2
}
