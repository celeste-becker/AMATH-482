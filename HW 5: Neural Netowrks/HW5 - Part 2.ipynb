{
 "cells": [
  {
   "cell_type": "code",
   "execution_count": 53,
   "metadata": {},
   "outputs": [],
   "source": [
    "#imports all nessary librarys\n",
    "import numpy as np\n",
    "import tensorflow as tf\n",
    "import matplotlib.pyplot as plt\n",
    "import pandas as pd\n",
    "from sklearn.metrics import confusion_matrix"
   ]
  },
  {
   "cell_type": "code",
   "execution_count": 42,
   "metadata": {},
   "outputs": [],
   "source": [
    "#loads in fashion data, sets training and test data\n",
    "fashion_mnist = tf.keras.datasets.fashion_mnist\n",
    "(X_train_full, y_train_full), (X_test, y_test) = fashion_mnist.load_data()"
   ]
  },
  {
   "cell_type": "code",
   "execution_count": 43,
   "metadata": {},
   "outputs": [],
   "source": [
    "X_valid = X_train_full[:5000] / 255.0\n",
    "X_train = X_train_full[5000:] / 255.0\n",
    "X_test = X_test / 255.0\n",
    "\n",
    "y_valid = y_train_full[:5000]\n",
    "y_train = y_train_full[5000:]\n",
    "\n",
    "X_train = X_train[..., np.newaxis]\n",
    "X_valid = X_valid[..., np.newaxis]\n",
    "X_test = X_test[..., np.newaxis]"
   ]
  },
  {
   "cell_type": "code",
   "execution_count": 86,
   "metadata": {},
   "outputs": [],
   "source": [
    "from functools import partial\n",
    "\n",
    "my_dense_layer = partial(tf.keras.layers.Dense, activation=\"relu\", kernel_regularizer=tf.keras.regularizers.l2(0.0001))\n",
    "my_conv_layer = partial(tf.keras.layers.Conv2D, activation=\"relu\", padding=\"valid\")\n",
    "\n",
    "model = tf.keras.models.Sequential([\n",
    "    \n",
    "    my_conv_layer(32,3,padding=\"same\",input_shape=[28,28,1]),\n",
    "    tf.keras.layers.MaxPooling2D(pool_size=2, strides=2),\n",
    "    tf.keras.layers.Dropout(0.2),\n",
    "    \n",
    "    my_conv_layer(16,3,padding=\"same\",input_shape=[28,28,1]),\n",
    "    tf.keras.layers.MaxPooling2D(pool_size=2, strides=2),\n",
    "    tf.keras.layers.Dropout(0.2),\n",
    "    \n",
    "    tf.keras.layers.Flatten(),\n",
    "    my_dense_layer(32),\n",
    "    my_dense_layer(10, activation=\"softmax\")\n",
    "    \n",
    "    \n",
    "])"
   ]
  },
  {
   "cell_type": "code",
   "execution_count": 87,
   "metadata": {},
   "outputs": [],
   "source": [
    "model.compile(loss=\"sparse_categorical_crossentropy\",\n",
    "             optimizer=tf.keras.optimizers.Adam(learning_rate=0.001),\n",
    "             metrics=[\"accuracy\"])"
   ]
  },
  {
   "cell_type": "code",
   "execution_count": 88,
   "metadata": {
    "scrolled": true
   },
   "outputs": [
    {
     "name": "stdout",
     "output_type": "stream",
     "text": [
      "Train on 55000 samples, validate on 5000 samples\n",
      "Epoch 1/10\n",
      "55000/55000 [==============================] - 52s 952us/sample - loss: 0.5605 - accuracy: 0.7987 - val_loss: 0.3783 - val_accuracy: 0.8716\n",
      "Epoch 2/10\n",
      "55000/55000 [==============================] - 54s 979us/sample - loss: 0.3893 - accuracy: 0.8641 - val_loss: 0.3318 - val_accuracy: 0.8922\n",
      "Epoch 3/10\n",
      "55000/55000 [==============================] - 54s 980us/sample - loss: 0.3488 - accuracy: 0.8785 - val_loss: 0.3059 - val_accuracy: 0.8988\n",
      "Epoch 4/10\n",
      "55000/55000 [==============================] - 54s 981us/sample - loss: 0.3234 - accuracy: 0.8882 - val_loss: 0.2885 - val_accuracy: 0.9046\n",
      "Epoch 5/10\n",
      "55000/55000 [==============================] - 54s 978us/sample - loss: 0.3071 - accuracy: 0.8946 - val_loss: 0.2830 - val_accuracy: 0.9042\n",
      "Epoch 6/10\n",
      "55000/55000 [==============================] - 51s 935us/sample - loss: 0.2982 - accuracy: 0.8985 - val_loss: 0.2621 - val_accuracy: 0.9122\n",
      "Epoch 7/10\n",
      "55000/55000 [==============================] - 47s 846us/sample - loss: 0.2902 - accuracy: 0.9017 - val_loss: 0.2614 - val_accuracy: 0.9152\n",
      "Epoch 8/10\n",
      "55000/55000 [==============================] - 43s 782us/sample - loss: 0.2823 - accuracy: 0.9048 - val_loss: 0.2547 - val_accuracy: 0.9198\n",
      "Epoch 9/10\n",
      "55000/55000 [==============================] - 44s 801us/sample - loss: 0.2764 - accuracy: 0.9072 - val_loss: 0.2553 - val_accuracy: 0.9128\n",
      "Epoch 10/10\n",
      "55000/55000 [==============================] - 48s 867us/sample - loss: 0.2721 - accuracy: 0.9086 - val_loss: 0.2542 - val_accuracy: 0.9188\n"
     ]
    }
   ],
   "source": [
    "history = model.fit(X_train, y_train, epochs=10, validation_data=(X_valid,y_valid))"
   ]
  },
  {
   "cell_type": "code",
   "execution_count": 89,
   "metadata": {},
   "outputs": [
    {
     "data": {
      "image/png": "[encoded data removed]",
      "text/plain": [
       "<Figure size 576x360 with 1 Axes>"
      ]
     },
     "metadata": {
      "needs_background": "light"
     },
     "output_type": "display_data"
    }
   ],
   "source": [
    "pd.DataFrame(history.history).plot(figsize=(8,5))\n",
    "plt.grid(True)\n",
    "plt.gca().set_ylim(0,1)\n",
    "plt.show()"
   ]
  },
  {
   "cell_type": "code",
   "execution_count": 90,
   "metadata": {},
   "outputs": [
    {
     "name": "stdout",
     "output_type": "stream",
     "text": [
      "[[4867    1   86   91    5    1  482    0   10    0]\n",
      " [   1 5378    2   57    3    0    1    0    2    0]\n",
      " [  30    3 5043   46  143    0  227    0    4    0]\n",
      " [  74   20   12 5181  122    0   89    0    1    0]\n",
      " [   3    4  391  122 4557    0  432    0    3    0]\n",
      " [   0    0    0    0    0 5445    0   32    2   28]\n",
      " [ 461    3  315  118  172    0 4429    0    9    0]\n",
      " [   0    0    0    0    0   52    0 5189    1  246]\n",
      " [   2    0   10    9   15    3   30    0 5441    0]\n",
      " [   0    0    0    0    1   11    0   67    1 5414]]\n"
     ]
    }
   ],
   "source": [
    "y_pred = model.predict_classes(X_train)\n",
    "conf_train = confusion_matrix(y_train, y_pred)\n",
    "print(conf_train)"
   ]
  },
  {
   "cell_type": "code",
   "execution_count": 91,
   "metadata": {},
   "outputs": [
    {
     "name": "stdout",
     "output_type": "stream",
     "text": [
      "10000/10000 [==============================] - 2s 222us/sample - loss: 0.2783 - accuracy: 0.9062\n"
     ]
    },
    {
     "data": {
      "text/plain": [
       "[0.27826369936466216, 0.9062]"
      ]
     },
     "execution_count": 91,
     "metadata": {},
     "output_type": "execute_result"
    }
   ],
   "source": [
    "model.evaluate(X_test,y_test) "
   ]
  },
  {
   "cell_type": "code",
   "execution_count": 84,
   "metadata": {},
   "outputs": [
    {
     "name": "stdout",
     "output_type": "stream",
     "text": [
      "[[882   1   7  24   2   2  79   0   3   0]\n",
      " [  1 975   0  15   5   0   2   0   2   0]\n",
      " [ 21   1 803  12  87   0  76   0   0   0]\n",
      " [ 19   6   3 926  24   0  22   0   0   0]\n",
      " [  1   1  28  21 901   0  47   0   1   0]\n",
      " [  0   0   0   1   0 964   0  23   0  12]\n",
      " [137   1  36  31  82   0 706   0   7   0]\n",
      " [  0   0   0   0   0   5   0 966   0  29]\n",
      " [  5   2   2   5   1   2   4   5 974   0]\n",
      " [  0   0   0   0   0   2   1  24   0 973]]\n"
     ]
    }
   ],
   "source": [
    "y_pred = model.predict_classes(X_test)\n",
    "conf_test = confusion_matrix(y_test, y_pred)\n",
    "print(conf_test)"
   ]
  },
  {
   "cell_type": "code",
   "execution_count": 92,
   "metadata": {},
   "outputs": [
    {
     "data": {
      "image/png": "[encoded data removed]",
      "text/plain": [
       "<Figure size 432x288 with 1 Axes>"
      ]
     },
     "metadata": {
      "needs_background": "light"
     },
     "output_type": "display_data"
    }
   ],
   "source": [
    "fig, ax = plt.subplots()\n",
    "\n",
    "# hide axes\n",
    "fig.patch.set_visible(False)\n",
    "ax.axis('off')\n",
    "ax.axis('tight')\n",
    "\n",
    "# create table and save to file\n",
    "df = pd.DataFrame(conf_test)\n",
    "ax.table(cellText=df.values, rowLabels=np.arange(10), colLabels=np.arange(10), loc='center', cellLoc='center')\n",
    "fig.tight_layout()\n",
    "plt.savefig('conf_mat.pdf')"
   ]
  }
 ],
 "metadata": {
  "kernelspec": {
   "display_name": "amath482",
   "language": "python",
   "name": "amath482"
  },
  "language_info": {
   "codemirror_mode": {
    "name": "ipython",
    "version": 3
   },
   "file_extension": ".py",
   "mimetype": "text/x-python",
   "name": "python",
   "nbconvert_exporter": "python",
   "pygments_lexer": "ipython3",
   "version": "3.7.6"
  }
 },
 "nbformat": 4,
 "nbformat_minor": 2
}
